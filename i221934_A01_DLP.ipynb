{
  "nbformat": 4,
  "nbformat_minor": 0,
  "metadata": {
    "colab": {
      "provenance": [],
      "gpuType": "T4"
    },
    "kernelspec": {
      "name": "python3",
      "display_name": "Python 3"
    },
    "language_info": {
      "name": "python"
    },
    "accelerator": "GPU"
  },
  "cells": [
    {
      "cell_type": "code",
      "execution_count": 2,
      "metadata": {
        "colab": {
          "base_uri": "https://localhost:8080/",
          "height": 1000
        },
        "id": "Sv1ICWcdYZDG",
        "outputId": "740bc370-e286-4955-8f2f-28d20b613e9e"
      },
      "outputs": [
        {
          "output_type": "stream",
          "name": "stdout",
          "text": [
            "Zip file found. Unzipping, this might take a moment...\n",
            "✅ Unzipping complete.\n",
            "Attempting to use BASE_PATH: /content/Dataset/Dataset\n",
            "GPU detected: 1 device(s). Enabling mixed precision if supported.\n",
            "Mixed precision policy set to mixed_float16.\n",
            "✅ Paths look good.\n",
            "Annotations: 15996\n",
            "Images: 3999\n",
            "\n",
            "Dataset shapes:\n",
            "X_images: (3999, 128, 128, 3)\n",
            "y_expressions: (3999,)\n",
            "y_valence: (3999,)\n",
            "y_arousal: (3999,)\n",
            "\n",
            "Final splits:\n",
            "Train: (2799, 128, 128, 3)\n",
            "Val:   (600, 128, 128, 3)\n",
            "Test:  (600, 128, 128, 3)\n",
            "Computed class weights: {0: 0.9996428571428572, 1: 0.9996428571428572, 2: 0.9996428571428572, 3: 0.9996428571428572, 4: 0.9996428571428572, 5: 0.9996428571428572, 6: 0.9996428571428572, 7: 1.0025071633237823}\n",
            "Downloading data from https://storage.googleapis.com/tensorflow/keras-applications/vgg16/vgg16_weights_tf_dim_ordering_tf_kernels_notop.h5\n",
            "\u001b[1m58889256/58889256\u001b[0m \u001b[32m━━━━━━━━━━━━━━━━━━━━\u001b[0m\u001b[37m\u001b[0m \u001b[1m0s\u001b[0m 0us/step\n",
            "\n",
            "VGG16 models ready: Classification & Regression\n",
            "Downloading data from https://storage.googleapis.com/tensorflow/keras-applications/mobilenet_v2/mobilenet_v2_weights_tf_dim_ordering_tf_kernels_1.0_128_no_top.h5\n",
            "\u001b[1m9406464/9406464\u001b[0m \u001b[32m━━━━━━━━━━━━━━━━━━━━\u001b[0m\u001b[37m\u001b[0m \u001b[1m0s\u001b[0m 0us/step\n",
            "MobileNetV2 models ready: Classification & Regression\n",
            "\n",
            "--- Training Classification Model (VGG16) ---\n",
            "Epoch 1/12\n",
            "\u001b[1m88/88\u001b[0m \u001b[32m━━━━━━━━━━━━━━━━━━━━\u001b[0m\u001b[37m\u001b[0m \u001b[1m0s\u001b[0m 207ms/step - accuracy: 0.1389 - auc: 0.5327 - loss: 2.1591"
          ]
        },
        {
          "output_type": "stream",
          "name": "stderr",
          "text": [
            "WARNING:absl:You are saving your model as an HDF5 file via `model.save()` or `keras.saving.save_model(model)`. This file format is considered legacy. We recommend using instead the native Keras format, e.g. `model.save('my_model.keras')` or `keras.saving.save_model(model, 'my_model.keras')`. \n"
          ]
        },
        {
          "output_type": "stream",
          "name": "stdout",
          "text": [
            "\b\b\b\b\b\b\b\b\b\b\b\b\b\b\b\b\b\b\b\b\b\b\b\b\b\b\b\b\b\b\b\b\b\b\b\b\b\b\b\b\b\b\b\b\b\b\b\b\b\b\b\b\b\b\b\b\b\b\b\b\b\b\b\b\b\b\b\b\b\b\b\b\b\b\b\b\b\b\b\b\b\b\b\b\b\b\b\b\r\u001b[1m88/88\u001b[0m \u001b[32m━━━━━━━━━━━━━━━━━━━━\u001b[0m\u001b[37m\u001b[0m \u001b[1m39s\u001b[0m 334ms/step - accuracy: 0.1393 - auc: 0.5330 - loss: 2.1583 - val_accuracy: 0.2050 - val_auc: 0.6325 - val_loss: 1.9986\n",
            "Epoch 2/12\n",
            "\u001b[1m88/88\u001b[0m \u001b[32m━━━━━━━━━━━━━━━━━━━━\u001b[0m\u001b[37m\u001b[0m \u001b[1m0s\u001b[0m 177ms/step - accuracy: 0.1963 - auc: 0.6080 - loss: 2.0207"
          ]
        },
        {
          "output_type": "stream",
          "name": "stderr",
          "text": [
            "WARNING:absl:You are saving your model as an HDF5 file via `model.save()` or `keras.saving.save_model(model)`. This file format is considered legacy. We recommend using instead the native Keras format, e.g. `model.save('my_model.keras')` or `keras.saving.save_model(model, 'my_model.keras')`. \n"
          ]
        },
        {
          "output_type": "stream",
          "name": "stdout",
          "text": [
            "\b\b\b\b\b\b\b\b\b\b\b\b\b\b\b\b\b\b\b\b\b\b\b\b\b\b\b\b\b\b\b\b\b\b\b\b\b\b\b\b\b\b\b\b\b\b\b\b\b\b\b\b\b\b\b\b\b\b\b\b\b\b\b\b\b\b\b\b\b\b\b\b\b\b\b\b\b\b\b\b\b\b\b\b\b\b\b\b\r\u001b[1m88/88\u001b[0m \u001b[32m━━━━━━━━━━━━━━━━━━━━\u001b[0m\u001b[37m\u001b[0m \u001b[1m16s\u001b[0m 184ms/step - accuracy: 0.1964 - auc: 0.6081 - loss: 2.0205 - val_accuracy: 0.2300 - val_auc: 0.6522 - val_loss: 1.9602\n",
            "Epoch 3/12\n",
            "\u001b[1m88/88\u001b[0m \u001b[32m━━━━━━━━━━━━━━━━━━━━\u001b[0m\u001b[37m\u001b[0m \u001b[1m0s\u001b[0m 176ms/step - accuracy: 0.2188 - auc: 0.6434 - loss: 1.9735"
          ]
        },
        {
          "output_type": "stream",
          "name": "stderr",
          "text": [
            "WARNING:absl:You are saving your model as an HDF5 file via `model.save()` or `keras.saving.save_model(model)`. This file format is considered legacy. We recommend using instead the native Keras format, e.g. `model.save('my_model.keras')` or `keras.saving.save_model(model, 'my_model.keras')`. \n"
          ]
        },
        {
          "output_type": "stream",
          "name": "stdout",
          "text": [
            "\b\b\b\b\b\b\b\b\b\b\b\b\b\b\b\b\b\b\b\b\b\b\b\b\b\b\b\b\b\b\b\b\b\b\b\b\b\b\b\b\b\b\b\b\b\b\b\b\b\b\b\b\b\b\b\b\b\b\b\b\b\b\b\b\b\b\b\b\b\b\b\b\b\b\b\b\b\b\b\b\b\b\b\b\b\b\b\b\r\u001b[1m88/88\u001b[0m \u001b[32m━━━━━━━━━━━━━━━━━━━━\u001b[0m\u001b[37m\u001b[0m \u001b[1m20s\u001b[0m 184ms/step - accuracy: 0.2189 - auc: 0.6435 - loss: 1.9734 - val_accuracy: 0.2167 - val_auc: 0.6734 - val_loss: 1.9370\n",
            "Epoch 4/12\n",
            "\u001b[1m88/88\u001b[0m \u001b[32m━━━━━━━━━━━━━━━━━━━━\u001b[0m\u001b[37m\u001b[0m \u001b[1m0s\u001b[0m 175ms/step - accuracy: 0.2272 - auc: 0.6667 - loss: 1.9439"
          ]
        },
        {
          "output_type": "stream",
          "name": "stderr",
          "text": [
            "WARNING:absl:You are saving your model as an HDF5 file via `model.save()` or `keras.saving.save_model(model)`. This file format is considered legacy. We recommend using instead the native Keras format, e.g. `model.save('my_model.keras')` or `keras.saving.save_model(model, 'my_model.keras')`. \n"
          ]
        },
        {
          "output_type": "stream",
          "name": "stdout",
          "text": [
            "\b\b\b\b\b\b\b\b\b\b\b\b\b\b\b\b\b\b\b\b\b\b\b\b\b\b\b\b\b\b\b\b\b\b\b\b\b\b\b\b\b\b\b\b\b\b\b\b\b\b\b\b\b\b\b\b\b\b\b\b\b\b\b\b\b\b\b\b\b\b\b\b\b\b\b\b\b\b\b\b\b\b\b\b\b\b\b\b\r\u001b[1m88/88\u001b[0m \u001b[32m━━━━━━━━━━━━━━━━━━━━\u001b[0m\u001b[37m\u001b[0m \u001b[1m16s\u001b[0m 183ms/step - accuracy: 0.2272 - auc: 0.6667 - loss: 1.9439 - val_accuracy: 0.2650 - val_auc: 0.6777 - val_loss: 1.9148\n",
            "Epoch 5/12\n",
            "\u001b[1m88/88\u001b[0m \u001b[32m━━━━━━━━━━━━━━━━━━━━\u001b[0m\u001b[37m\u001b[0m \u001b[1m17s\u001b[0m 193ms/step - accuracy: 0.2511 - auc: 0.6701 - loss: 1.9290 - val_accuracy: 0.2417 - val_auc: 0.6686 - val_loss: 1.9275\n",
            "Epoch 6/12\n",
            "\u001b[1m88/88\u001b[0m \u001b[32m━━━━━━━━━━━━━━━━━━━━\u001b[0m\u001b[37m\u001b[0m \u001b[1m0s\u001b[0m 178ms/step - accuracy: 0.2423 - auc: 0.6678 - loss: 1.9416"
          ]
        },
        {
          "output_type": "stream",
          "name": "stderr",
          "text": [
            "WARNING:absl:You are saving your model as an HDF5 file via `model.save()` or `keras.saving.save_model(model)`. This file format is considered legacy. We recommend using instead the native Keras format, e.g. `model.save('my_model.keras')` or `keras.saving.save_model(model, 'my_model.keras')`. \n"
          ]
        },
        {
          "output_type": "stream",
          "name": "stdout",
          "text": [
            "\b\b\b\b\b\b\b\b\b\b\b\b\b\b\b\b\b\b\b\b\b\b\b\b\b\b\b\b\b\b\b\b\b\b\b\b\b\b\b\b\b\b\b\b\b\b\b\b\b\b\b\b\b\b\b\b\b\b\b\b\b\b\b\b\b\b\b\b\b\b\b\b\b\b\b\b\b\b\b\b\b\b\b\b\b\b\b\b\r\u001b[1m88/88\u001b[0m \u001b[32m━━━━━━━━━━━━━━━━━━━━\u001b[0m\u001b[37m\u001b[0m \u001b[1m16s\u001b[0m 186ms/step - accuracy: 0.2424 - auc: 0.6679 - loss: 1.9414 - val_accuracy: 0.2650 - val_auc: 0.6956 - val_loss: 1.8833\n",
            "Epoch 7/12\n",
            "\u001b[1m88/88\u001b[0m \u001b[32m━━━━━━━━━━━━━━━━━━━━\u001b[0m\u001b[37m\u001b[0m \u001b[1m0s\u001b[0m 182ms/step - accuracy: 0.2683 - auc: 0.6849 - loss: 1.9083"
          ]
        },
        {
          "output_type": "stream",
          "name": "stderr",
          "text": [
            "WARNING:absl:You are saving your model as an HDF5 file via `model.save()` or `keras.saving.save_model(model)`. This file format is considered legacy. We recommend using instead the native Keras format, e.g. `model.save('my_model.keras')` or `keras.saving.save_model(model, 'my_model.keras')`. \n"
          ]
        },
        {
          "output_type": "stream",
          "name": "stdout",
          "text": [
            "\b\b\b\b\b\b\b\b\b\b\b\b\b\b\b\b\b\b\b\b\b\b\b\b\b\b\b\b\b\b\b\b\b\b\b\b\b\b\b\b\b\b\b\b\b\b\b\b\b\b\b\b\b\b\b\b\b\b\b\b\b\b\b\b\b\b\b\b\b\b\b\b\b\b\b\b\b\b\b\b\b\b\b\b\b\b\b\b\r\u001b[1m88/88\u001b[0m \u001b[32m━━━━━━━━━━━━━━━━━━━━\u001b[0m\u001b[37m\u001b[0m \u001b[1m17s\u001b[0m 190ms/step - accuracy: 0.2684 - auc: 0.6850 - loss: 1.9083 - val_accuracy: 0.2983 - val_auc: 0.6992 - val_loss: 1.8815\n",
            "Epoch 8/12\n",
            "\u001b[1m88/88\u001b[0m \u001b[32m━━━━━━━━━━━━━━━━━━━━\u001b[0m\u001b[37m\u001b[0m \u001b[1m0s\u001b[0m 188ms/step - accuracy: 0.2619 - auc: 0.6896 - loss: 1.8984"
          ]
        },
        {
          "output_type": "stream",
          "name": "stderr",
          "text": [
            "WARNING:absl:You are saving your model as an HDF5 file via `model.save()` or `keras.saving.save_model(model)`. This file format is considered legacy. We recommend using instead the native Keras format, e.g. `model.save('my_model.keras')` or `keras.saving.save_model(model, 'my_model.keras')`. \n"
          ]
        },
        {
          "output_type": "stream",
          "name": "stdout",
          "text": [
            "\b\b\b\b\b\b\b\b\b\b\b\b\b\b\b\b\b\b\b\b\b\b\b\b\b\b\b\b\b\b\b\b\b\b\b\b\b\b\b\b\b\b\b\b\b\b\b\b\b\b\b\b\b\b\b\b\b\b\b\b\b\b\b\b\b\b\b\b\b\b\b\b\b\b\b\b\b\b\b\b\b\b\b\b\b\b\b\b\r\u001b[1m88/88\u001b[0m \u001b[32m━━━━━━━━━━━━━━━━━━━━\u001b[0m\u001b[37m\u001b[0m \u001b[1m17s\u001b[0m 196ms/step - accuracy: 0.2620 - auc: 0.6896 - loss: 1.8983 - val_accuracy: 0.2600 - val_auc: 0.6971 - val_loss: 1.8767\n",
            "Epoch 9/12\n",
            "\u001b[1m88/88\u001b[0m \u001b[32m━━━━━━━━━━━━━━━━━━━━\u001b[0m\u001b[37m\u001b[0m \u001b[1m0s\u001b[0m 178ms/step - accuracy: 0.2577 - auc: 0.7107 - loss: 1.8643"
          ]
        },
        {
          "output_type": "stream",
          "name": "stderr",
          "text": [
            "WARNING:absl:You are saving your model as an HDF5 file via `model.save()` or `keras.saving.save_model(model)`. This file format is considered legacy. We recommend using instead the native Keras format, e.g. `model.save('my_model.keras')` or `keras.saving.save_model(model, 'my_model.keras')`. \n"
          ]
        },
        {
          "output_type": "stream",
          "name": "stdout",
          "text": [
            "\b\b\b\b\b\b\b\b\b\b\b\b\b\b\b\b\b\b\b\b\b\b\b\b\b\b\b\b\b\b\b\b\b\b\b\b\b\b\b\b\b\b\b\b\b\b\b\b\b\b\b\b\b\b\b\b\b\b\b\b\b\b\b\b\b\b\b\b\b\b\b\b\b\b\b\b\b\b\b\b\b\b\b\b\b\b\b\b\r\u001b[1m88/88\u001b[0m \u001b[32m━━━━━━━━━━━━━━━━━━━━\u001b[0m\u001b[37m\u001b[0m \u001b[1m16s\u001b[0m 186ms/step - accuracy: 0.2577 - auc: 0.7106 - loss: 1.8644 - val_accuracy: 0.2683 - val_auc: 0.7003 - val_loss: 1.8718\n",
            "Epoch 10/12\n",
            "\u001b[1m88/88\u001b[0m \u001b[32m━━━━━━━━━━━━━━━━━━━━\u001b[0m\u001b[37m\u001b[0m \u001b[1m0s\u001b[0m 183ms/step - accuracy: 0.2985 - auc: 0.7013 - loss: 1.8726"
          ]
        },
        {
          "output_type": "stream",
          "name": "stderr",
          "text": [
            "WARNING:absl:You are saving your model as an HDF5 file via `model.save()` or `keras.saving.save_model(model)`. This file format is considered legacy. We recommend using instead the native Keras format, e.g. `model.save('my_model.keras')` or `keras.saving.save_model(model, 'my_model.keras')`. \n"
          ]
        },
        {
          "output_type": "stream",
          "name": "stdout",
          "text": [
            "\b\b\b\b\b\b\b\b\b\b\b\b\b\b\b\b\b\b\b\b\b\b\b\b\b\b\b\b\b\b\b\b\b\b\b\b\b\b\b\b\b\b\b\b\b\b\b\b\b\b\b\b\b\b\b\b\b\b\b\b\b\b\b\b\b\b\b\b\b\b\b\b\b\b\b\b\b\b\b\b\b\b\b\b\b\b\b\b\r\u001b[1m88/88\u001b[0m \u001b[32m━━━━━━━━━━━━━━━━━━━━\u001b[0m\u001b[37m\u001b[0m \u001b[1m17s\u001b[0m 192ms/step - accuracy: 0.2984 - auc: 0.7013 - loss: 1.8725 - val_accuracy: 0.2767 - val_auc: 0.7033 - val_loss: 1.8693\n",
            "Epoch 11/12\n",
            "\u001b[1m88/88\u001b[0m \u001b[32m━━━━━━━━━━━━━━━━━━━━\u001b[0m\u001b[37m\u001b[0m \u001b[1m0s\u001b[0m 177ms/step - accuracy: 0.2862 - auc: 0.7203 - loss: 1.8407"
          ]
        },
        {
          "output_type": "stream",
          "name": "stderr",
          "text": [
            "WARNING:absl:You are saving your model as an HDF5 file via `model.save()` or `keras.saving.save_model(model)`. This file format is considered legacy. We recommend using instead the native Keras format, e.g. `model.save('my_model.keras')` or `keras.saving.save_model(model, 'my_model.keras')`. \n"
          ]
        },
        {
          "output_type": "stream",
          "name": "stdout",
          "text": [
            "\b\b\b\b\b\b\b\b\b\b\b\b\b\b\b\b\b\b\b\b\b\b\b\b\b\b\b\b\b\b\b\b\b\b\b\b\b\b\b\b\b\b\b\b\b\b\b\b\b\b\b\b\b\b\b\b\b\b\b\b\b\b\b\b\b\b\b\b\b\b\b\b\b\b\b\b\b\b\b\b\b\b\b\b\b\b\b\b\r\u001b[1m88/88\u001b[0m \u001b[32m━━━━━━━━━━━━━━━━━━━━\u001b[0m\u001b[37m\u001b[0m \u001b[1m16s\u001b[0m 185ms/step - accuracy: 0.2862 - auc: 0.7202 - loss: 1.8409 - val_accuracy: 0.2900 - val_auc: 0.7075 - val_loss: 1.8584\n",
            "Epoch 12/12\n",
            "\u001b[1m88/88\u001b[0m \u001b[32m━━━━━━━━━━━━━━━━━━━━\u001b[0m\u001b[37m\u001b[0m \u001b[1m0s\u001b[0m 176ms/step - accuracy: 0.2740 - auc: 0.7136 - loss: 1.8528"
          ]
        },
        {
          "output_type": "stream",
          "name": "stderr",
          "text": [
            "WARNING:absl:You are saving your model as an HDF5 file via `model.save()` or `keras.saving.save_model(model)`. This file format is considered legacy. We recommend using instead the native Keras format, e.g. `model.save('my_model.keras')` or `keras.saving.save_model(model, 'my_model.keras')`. \n"
          ]
        },
        {
          "output_type": "stream",
          "name": "stdout",
          "text": [
            "\b\b\b\b\b\b\b\b\b\b\b\b\b\b\b\b\b\b\b\b\b\b\b\b\b\b\b\b\b\b\b\b\b\b\b\b\b\b\b\b\b\b\b\b\b\b\b\b\b\b\b\b\b\b\b\b\b\b\b\b\b\b\b\b\b\b\b\b\b\b\b\b\b\b\b\b\b\b\b\b\b\b\b\b\b\b\b\b\r\u001b[1m88/88\u001b[0m \u001b[32m━━━━━━━━━━━━━━━━━━━━\u001b[0m\u001b[37m\u001b[0m \u001b[1m16s\u001b[0m 184ms/step - accuracy: 0.2740 - auc: 0.7135 - loss: 1.8529 - val_accuracy: 0.2733 - val_auc: 0.7149 - val_loss: 1.8497\n",
            "\n",
            "--- Training Regression Model (VGG16) ---\n",
            "Epoch 1/12\n",
            "\u001b[1m88/88\u001b[0m \u001b[32m━━━━━━━━━━━━━━━━━━━━\u001b[0m\u001b[37m\u001b[0m \u001b[1m0s\u001b[0m 193ms/step - loss: 0.3810 - rmse: 0.6109"
          ]
        },
        {
          "output_type": "stream",
          "name": "stderr",
          "text": [
            "WARNING:absl:You are saving your model as an HDF5 file via `model.save()` or `keras.saving.save_model(model)`. This file format is considered legacy. We recommend using instead the native Keras format, e.g. `model.save('my_model.keras')` or `keras.saving.save_model(model, 'my_model.keras')`. \n"
          ]
        },
        {
          "output_type": "stream",
          "name": "stdout",
          "text": [
            "\b\b\b\b\b\b\b\b\b\b\b\b\b\b\b\b\b\b\b\b\b\b\b\b\b\b\b\b\b\b\b\b\b\b\b\b\b\b\b\b\b\b\b\b\b\b\b\b\b\b\b\b\b\b\b\b\b\b\b\b\b\b\b\b\b\b\b\b\b\b\r\u001b[1m88/88\u001b[0m \u001b[32m━━━━━━━━━━━━━━━━━━━━\u001b[0m\u001b[37m\u001b[0m \u001b[1m24s\u001b[0m 218ms/step - loss: 0.3797 - rmse: 0.6099 - val_loss: 0.1716 - val_rmse: 0.4142\n",
            "Epoch 2/12\n",
            "\u001b[1m88/88\u001b[0m \u001b[32m━━━━━━━━━━━━━━━━━━━━\u001b[0m\u001b[37m\u001b[0m \u001b[1m16s\u001b[0m 186ms/step - loss: 0.1773 - rmse: 0.4210 - val_loss: 0.1821 - val_rmse: 0.4268\n",
            "Epoch 3/12\n",
            "\u001b[1m88/88\u001b[0m \u001b[32m━━━━━━━━━━━━━━━━━━━━\u001b[0m\u001b[37m\u001b[0m \u001b[1m0s\u001b[0m 178ms/step - loss: 0.1800 - rmse: 0.4243"
          ]
        },
        {
          "output_type": "stream",
          "name": "stderr",
          "text": [
            "WARNING:absl:You are saving your model as an HDF5 file via `model.save()` or `keras.saving.save_model(model)`. This file format is considered legacy. We recommend using instead the native Keras format, e.g. `model.save('my_model.keras')` or `keras.saving.save_model(model, 'my_model.keras')`. \n"
          ]
        },
        {
          "output_type": "stream",
          "name": "stdout",
          "text": [
            "\b\b\b\b\b\b\b\b\b\b\b\b\b\b\b\b\b\b\b\b\b\b\b\b\b\b\b\b\b\b\b\b\b\b\b\b\b\b\b\b\b\b\b\b\b\b\b\b\b\b\b\b\b\b\b\b\b\b\b\b\b\b\b\b\b\b\b\b\b\b\r\u001b[1m88/88\u001b[0m \u001b[32m━━━━━━━━━━━━━━━━━━━━\u001b[0m\u001b[37m\u001b[0m \u001b[1m21s\u001b[0m 188ms/step - loss: 0.1800 - rmse: 0.4242 - val_loss: 0.1700 - val_rmse: 0.4123\n",
            "Epoch 4/12\n",
            "\u001b[1m88/88\u001b[0m \u001b[32m━━━━━━━━━━━━━━━━━━━━\u001b[0m\u001b[37m\u001b[0m \u001b[1m20s\u001b[0m 182ms/step - loss: 0.1731 - rmse: 0.4161 - val_loss: 0.1714 - val_rmse: 0.4140\n",
            "Epoch 5/12\n",
            "\u001b[1m88/88\u001b[0m \u001b[32m━━━━━━━━━━━━━━━━━━━━\u001b[0m\u001b[37m\u001b[0m \u001b[1m0s\u001b[0m 176ms/step - loss: 0.1769 - rmse: 0.4206"
          ]
        },
        {
          "output_type": "stream",
          "name": "stderr",
          "text": [
            "WARNING:absl:You are saving your model as an HDF5 file via `model.save()` or `keras.saving.save_model(model)`. This file format is considered legacy. We recommend using instead the native Keras format, e.g. `model.save('my_model.keras')` or `keras.saving.save_model(model, 'my_model.keras')`. \n"
          ]
        },
        {
          "output_type": "stream",
          "name": "stdout",
          "text": [
            "\b\b\b\b\b\b\b\b\b\b\b\b\b\b\b\b\b\b\b\b\b\b\b\b\b\b\b\b\b\b\b\b\b\b\b\b\b\b\b\b\b\b\b\b\b\b\b\b\b\b\b\b\b\b\b\b\b\b\b\b\b\b\b\b\b\b\b\b\b\b\r\u001b[1m88/88\u001b[0m \u001b[32m━━━━━━━━━━━━━━━━━━━━\u001b[0m\u001b[37m\u001b[0m \u001b[1m16s\u001b[0m 184ms/step - loss: 0.1769 - rmse: 0.4206 - val_loss: 0.1672 - val_rmse: 0.4089\n",
            "Epoch 6/12\n",
            "\u001b[1m88/88\u001b[0m \u001b[32m━━━━━━━━━━━━━━━━━━━━\u001b[0m\u001b[37m\u001b[0m \u001b[1m17s\u001b[0m 190ms/step - loss: 0.1731 - rmse: 0.4160 - val_loss: 0.1675 - val_rmse: 0.4092\n",
            "Epoch 7/12\n",
            "\u001b[1m88/88\u001b[0m \u001b[32m━━━━━━━━━━━━━━━━━━━━\u001b[0m\u001b[37m\u001b[0m \u001b[1m20s\u001b[0m 183ms/step - loss: 0.1743 - rmse: 0.4175 - val_loss: 0.1681 - val_rmse: 0.4100\n",
            "Epoch 8/12\n",
            "\u001b[1m88/88\u001b[0m \u001b[32m━━━━━━━━━━━━━━━━━━━━\u001b[0m\u001b[37m\u001b[0m \u001b[1m0s\u001b[0m 184ms/step - loss: 0.1749 - rmse: 0.4181"
          ]
        },
        {
          "output_type": "stream",
          "name": "stderr",
          "text": [
            "WARNING:absl:You are saving your model as an HDF5 file via `model.save()` or `keras.saving.save_model(model)`. This file format is considered legacy. We recommend using instead the native Keras format, e.g. `model.save('my_model.keras')` or `keras.saving.save_model(model, 'my_model.keras')`. \n"
          ]
        },
        {
          "output_type": "stream",
          "name": "stdout",
          "text": [
            "\b\b\b\b\b\b\b\b\b\b\b\b\b\b\b\b\b\b\b\b\b\b\b\b\b\b\b\b\b\b\b\b\b\b\b\b\b\b\b\b\b\b\b\b\b\b\b\b\b\b\b\b\b\b\b\b\b\b\b\b\b\b\b\b\b\b\b\b\b\b\r\u001b[1m88/88\u001b[0m \u001b[32m━━━━━━━━━━━━━━━━━━━━\u001b[0m\u001b[37m\u001b[0m \u001b[1m17s\u001b[0m 192ms/step - loss: 0.1748 - rmse: 0.4181 - val_loss: 0.1652 - val_rmse: 0.4064\n",
            "Epoch 9/12\n",
            "\u001b[1m88/88\u001b[0m \u001b[32m━━━━━━━━━━━━━━━━━━━━\u001b[0m\u001b[37m\u001b[0m \u001b[1m16s\u001b[0m 185ms/step - loss: 0.1728 - rmse: 0.4156 - val_loss: 0.1671 - val_rmse: 0.4088\n",
            "Epoch 10/12\n",
            "\u001b[1m88/88\u001b[0m \u001b[32m━━━━━━━━━━━━━━━━━━━━\u001b[0m\u001b[37m\u001b[0m \u001b[1m21s\u001b[0m 196ms/step - loss: 0.1695 - rmse: 0.4117 - val_loss: 0.1707 - val_rmse: 0.4132\n",
            "Epoch 11/12\n",
            "\u001b[1m88/88\u001b[0m \u001b[32m━━━━━━━━━━━━━━━━━━━━\u001b[0m\u001b[37m\u001b[0m \u001b[1m16s\u001b[0m 183ms/step - loss: 0.1637 - rmse: 0.4044 - val_loss: 0.1676 - val_rmse: 0.4094\n",
            "Epoch 12/12\n",
            "\u001b[1m88/88\u001b[0m \u001b[32m━━━━━━━━━━━━━━━━━━━━\u001b[0m\u001b[37m\u001b[0m \u001b[1m16s\u001b[0m 184ms/step - loss: 0.1658 - rmse: 0.4072 - val_loss: 0.1671 - val_rmse: 0.4087\n",
            "\n",
            "--- Training Classification Model (MobileNetV2) ---\n",
            "Epoch 1/12\n",
            "\u001b[1m88/88\u001b[0m \u001b[32m━━━━━━━━━━━━━━━━━━━━\u001b[0m\u001b[37m\u001b[0m \u001b[1m0s\u001b[0m 458ms/step - accuracy: 0.1414 - auc: 0.5223 - loss: 2.5312"
          ]
        },
        {
          "output_type": "stream",
          "name": "stderr",
          "text": [
            "WARNING:absl:You are saving your model as an HDF5 file via `model.save()` or `keras.saving.save_model(model)`. This file format is considered legacy. We recommend using instead the native Keras format, e.g. `model.save('my_model.keras')` or `keras.saving.save_model(model, 'my_model.keras')`. \n"
          ]
        },
        {
          "output_type": "stream",
          "name": "stdout",
          "text": [
            "\b\b\b\b\b\b\b\b\b\b\b\b\b\b\b\b\b\b\b\b\b\b\b\b\b\b\b\b\b\b\b\b\b\b\b\b\b\b\b\b\b\b\b\b\b\b\b\b\b\b\b\b\b\b\b\b\b\b\b\b\b\b\b\b\b\b\b\b\b\b\b\b\b\b\b\b\b\b\b\b\b\b\b\b\b\b\b\b\r\u001b[1m88/88\u001b[0m \u001b[32m━━━━━━━━━━━━━━━━━━━━\u001b[0m\u001b[37m\u001b[0m \u001b[1m111s\u001b[0m 893ms/step - accuracy: 0.1417 - auc: 0.5226 - loss: 2.5278 - val_accuracy: 0.2333 - val_auc: 0.6471 - val_loss: 1.9709\n",
            "Epoch 2/12\n",
            "\u001b[1m88/88\u001b[0m \u001b[32m━━━━━━━━━━━━━━━━━━━━\u001b[0m\u001b[37m\u001b[0m \u001b[1m0s\u001b[0m 166ms/step - accuracy: 0.2233 - auc: 0.6486 - loss: 1.9677"
          ]
        },
        {
          "output_type": "stream",
          "name": "stderr",
          "text": [
            "WARNING:absl:You are saving your model as an HDF5 file via `model.save()` or `keras.saving.save_model(model)`. This file format is considered legacy. We recommend using instead the native Keras format, e.g. `model.save('my_model.keras')` or `keras.saving.save_model(model, 'my_model.keras')`. \n"
          ]
        },
        {
          "output_type": "stream",
          "name": "stdout",
          "text": [
            "\b\b\b\b\b\b\b\b\b\b\b\b\b\b\b\b\b\b\b\b\b\b\b\b\b\b\b\b\b\b\b\b\b\b\b\b\b\b\b\b\b\b\b\b\b\b\b\b\b\b\b\b\b\b\b\b\b\b\b\b\b\b\b\b\b\b\b\b\b\b\b\b\b\b\b\b\b\b\b\b\b\b\b\b\b\b\b\b\r\u001b[1m88/88\u001b[0m \u001b[32m━━━━━━━━━━━━━━━━━━━━\u001b[0m\u001b[37m\u001b[0m \u001b[1m15s\u001b[0m 173ms/step - accuracy: 0.2233 - auc: 0.6487 - loss: 1.9677 - val_accuracy: 0.2717 - val_auc: 0.6681 - val_loss: 1.9334\n",
            "Epoch 3/12\n",
            "\u001b[1m88/88\u001b[0m \u001b[32m━━━━━━━━━━━━━━━━━━━━\u001b[0m\u001b[37m\u001b[0m \u001b[1m0s\u001b[0m 164ms/step - accuracy: 0.2386 - auc: 0.6517 - loss: 1.9574"
          ]
        },
        {
          "output_type": "stream",
          "name": "stderr",
          "text": [
            "WARNING:absl:You are saving your model as an HDF5 file via `model.save()` or `keras.saving.save_model(model)`. This file format is considered legacy. We recommend using instead the native Keras format, e.g. `model.save('my_model.keras')` or `keras.saving.save_model(model, 'my_model.keras')`. \n"
          ]
        },
        {
          "output_type": "stream",
          "name": "stdout",
          "text": [
            "\b\b\b\b\b\b\b\b\b\b\b\b\b\b\b\b\b\b\b\b\b\b\b\b\b\b\b\b\b\b\b\b\b\b\b\b\b\b\b\b\b\b\b\b\b\b\b\b\b\b\b\b\b\b\b\b\b\b\b\b\b\b\b\b\b\b\b\b\b\b\b\b\b\b\b\b\b\b\b\b\b\b\b\b\b\b\b\b\r\u001b[1m88/88\u001b[0m \u001b[32m━━━━━━━━━━━━━━━━━━━━\u001b[0m\u001b[37m\u001b[0m \u001b[1m15s\u001b[0m 172ms/step - accuracy: 0.2386 - auc: 0.6518 - loss: 1.9573 - val_accuracy: 0.2667 - val_auc: 0.6775 - val_loss: 1.9140\n",
            "Epoch 4/12\n",
            "\u001b[1m88/88\u001b[0m \u001b[32m━━━━━━━━━━━━━━━━━━━━\u001b[0m\u001b[37m\u001b[0m \u001b[1m16s\u001b[0m 179ms/step - accuracy: 0.2487 - auc: 0.6815 - loss: 1.9052 - val_accuracy: 0.2417 - val_auc: 0.6799 - val_loss: 1.9178\n",
            "Epoch 5/12\n",
            "\u001b[1m88/88\u001b[0m \u001b[32m━━━━━━━━━━━━━━━━━━━━\u001b[0m\u001b[37m\u001b[0m \u001b[1m0s\u001b[0m 165ms/step - accuracy: 0.2780 - auc: 0.7080 - loss: 1.8548"
          ]
        },
        {
          "output_type": "stream",
          "name": "stderr",
          "text": [
            "WARNING:absl:You are saving your model as an HDF5 file via `model.save()` or `keras.saving.save_model(model)`. This file format is considered legacy. We recommend using instead the native Keras format, e.g. `model.save('my_model.keras')` or `keras.saving.save_model(model, 'my_model.keras')`. \n"
          ]
        },
        {
          "output_type": "stream",
          "name": "stdout",
          "text": [
            "\b\b\b\b\b\b\b\b\b\b\b\b\b\b\b\b\b\b\b\b\b\b\b\b\b\b\b\b\b\b\b\b\b\b\b\b\b\b\b\b\b\b\b\b\b\b\b\b\b\b\b\b\b\b\b\b\b\b\b\b\b\b\b\b\b\b\b\b\b\b\b\b\b\b\b\b\b\b\b\b\b\b\b\b\b\b\b\b\r\u001b[1m88/88\u001b[0m \u001b[32m━━━━━━━━━━━━━━━━━━━━\u001b[0m\u001b[37m\u001b[0m \u001b[1m15s\u001b[0m 173ms/step - accuracy: 0.2779 - auc: 0.7079 - loss: 1.8550 - val_accuracy: 0.2800 - val_auc: 0.6897 - val_loss: 1.8900\n",
            "Epoch 6/12\n",
            "\u001b[1m88/88\u001b[0m \u001b[32m━━━━━━━━━━━━━━━━━━━━\u001b[0m\u001b[37m\u001b[0m \u001b[1m15s\u001b[0m 168ms/step - accuracy: 0.2708 - auc: 0.7129 - loss: 1.8515 - val_accuracy: 0.2817 - val_auc: 0.6896 - val_loss: 1.8999\n",
            "Epoch 7/12\n",
            "\u001b[1m88/88\u001b[0m \u001b[32m━━━━━━━━━━━━━━━━━━━━\u001b[0m\u001b[37m\u001b[0m \u001b[1m0s\u001b[0m 164ms/step - accuracy: 0.2687 - auc: 0.7091 - loss: 1.8546"
          ]
        },
        {
          "output_type": "stream",
          "name": "stderr",
          "text": [
            "WARNING:absl:You are saving your model as an HDF5 file via `model.save()` or `keras.saving.save_model(model)`. This file format is considered legacy. We recommend using instead the native Keras format, e.g. `model.save('my_model.keras')` or `keras.saving.save_model(model, 'my_model.keras')`. \n"
          ]
        },
        {
          "output_type": "stream",
          "name": "stdout",
          "text": [
            "\b\b\b\b\b\b\b\b\b\b\b\b\b\b\b\b\b\b\b\b\b\b\b\b\b\b\b\b\b\b\b\b\b\b\b\b\b\b\b\b\b\b\b\b\b\b\b\b\b\b\b\b\b\b\b\b\b\b\b\b\b\b\b\b\b\b\b\b\b\b\b\b\b\b\b\b\b\b\b\b\b\b\b\b\b\b\b\b\r\u001b[1m88/88\u001b[0m \u001b[32m━━━━━━━━━━━━━━━━━━━━\u001b[0m\u001b[37m\u001b[0m \u001b[1m15s\u001b[0m 172ms/step - accuracy: 0.2687 - auc: 0.7091 - loss: 1.8546 - val_accuracy: 0.2833 - val_auc: 0.7052 - val_loss: 1.8596\n",
            "Epoch 8/12\n",
            "\u001b[1m88/88\u001b[0m \u001b[32m━━━━━━━━━━━━━━━━━━━━\u001b[0m\u001b[37m\u001b[0m \u001b[1m0s\u001b[0m 164ms/step - accuracy: 0.3089 - auc: 0.7367 - loss: 1.7912"
          ]
        },
        {
          "output_type": "stream",
          "name": "stderr",
          "text": [
            "WARNING:absl:You are saving your model as an HDF5 file via `model.save()` or `keras.saving.save_model(model)`. This file format is considered legacy. We recommend using instead the native Keras format, e.g. `model.save('my_model.keras')` or `keras.saving.save_model(model, 'my_model.keras')`. \n"
          ]
        },
        {
          "output_type": "stream",
          "name": "stdout",
          "text": [
            "\b\b\b\b\b\b\b\b\b\b\b\b\b\b\b\b\b\b\b\b\b\b\b\b\b\b\b\b\b\b\b\b\b\b\b\b\b\b\b\b\b\b\b\b\b\b\b\b\b\b\b\b\b\b\b\b\b\b\b\b\b\b\b\b\b\b\b\b\b\b\b\b\b\b\b\b\b\b\b\b\b\b\b\b\b\b\b\b\r\u001b[1m88/88\u001b[0m \u001b[32m━━━━━━━━━━━━━━━━━━━━\u001b[0m\u001b[37m\u001b[0m \u001b[1m15s\u001b[0m 174ms/step - accuracy: 0.3088 - auc: 0.7366 - loss: 1.7914 - val_accuracy: 0.2900 - val_auc: 0.7136 - val_loss: 1.8483\n",
            "Epoch 9/12\n",
            "\u001b[1m88/88\u001b[0m \u001b[32m━━━━━━━━━━━━━━━━━━━━\u001b[0m\u001b[37m\u001b[0m \u001b[1m0s\u001b[0m 163ms/step - accuracy: 0.3122 - auc: 0.7322 - loss: 1.8008"
          ]
        },
        {
          "output_type": "stream",
          "name": "stderr",
          "text": [
            "WARNING:absl:You are saving your model as an HDF5 file via `model.save()` or `keras.saving.save_model(model)`. This file format is considered legacy. We recommend using instead the native Keras format, e.g. `model.save('my_model.keras')` or `keras.saving.save_model(model, 'my_model.keras')`. \n"
          ]
        },
        {
          "output_type": "stream",
          "name": "stdout",
          "text": [
            "\b\b\b\b\b\b\b\b\b\b\b\b\b\b\b\b\b\b\b\b\b\b\b\b\b\b\b\b\b\b\b\b\b\b\b\b\b\b\b\b\b\b\b\b\b\b\b\b\b\b\b\b\b\b\b\b\b\b\b\b\b\b\b\b\b\b\b\b\b\b\b\b\b\b\b\b\b\b\b\b\b\b\b\b\b\b\b\b\r\u001b[1m88/88\u001b[0m \u001b[32m━━━━━━━━━━━━━━━━━━━━\u001b[0m\u001b[37m\u001b[0m \u001b[1m20s\u001b[0m 171ms/step - accuracy: 0.3122 - auc: 0.7322 - loss: 1.8008 - val_accuracy: 0.3033 - val_auc: 0.7216 - val_loss: 1.8287\n",
            "Epoch 10/12\n",
            "\u001b[1m88/88\u001b[0m \u001b[32m━━━━━━━━━━━━━━━━━━━━\u001b[0m\u001b[37m\u001b[0m \u001b[1m15s\u001b[0m 168ms/step - accuracy: 0.3338 - auc: 0.7520 - loss: 1.7465 - val_accuracy: 0.2800 - val_auc: 0.6966 - val_loss: 1.8923\n",
            "Epoch 11/12\n",
            "\u001b[1m88/88\u001b[0m \u001b[32m━━━━━━━━━━━━━━━━━━━━\u001b[0m\u001b[37m\u001b[0m \u001b[1m0s\u001b[0m 176ms/step - accuracy: 0.3248 - auc: 0.7423 - loss: 1.7771"
          ]
        },
        {
          "output_type": "stream",
          "name": "stderr",
          "text": [
            "WARNING:absl:You are saving your model as an HDF5 file via `model.save()` or `keras.saving.save_model(model)`. This file format is considered legacy. We recommend using instead the native Keras format, e.g. `model.save('my_model.keras')` or `keras.saving.save_model(model, 'my_model.keras')`. \n"
          ]
        },
        {
          "output_type": "stream",
          "name": "stdout",
          "text": [
            "\b\b\b\b\b\b\b\b\b\b\b\b\b\b\b\b\b\b\b\b\b\b\b\b\b\b\b\b\b\b\b\b\b\b\b\b\b\b\b\b\b\b\b\b\b\b\b\b\b\b\b\b\b\b\b\b\b\b\b\b\b\b\b\b\b\b\b\b\b\b\b\b\b\b\b\b\b\b\b\b\b\b\b\b\b\b\b\b\r\u001b[1m88/88\u001b[0m \u001b[32m━━━━━━━━━━━━━━━━━━━━\u001b[0m\u001b[37m\u001b[0m \u001b[1m16s\u001b[0m 183ms/step - accuracy: 0.3248 - auc: 0.7423 - loss: 1.7770 - val_accuracy: 0.3033 - val_auc: 0.7283 - val_loss: 1.8069\n",
            "Epoch 12/12\n",
            "\u001b[1m88/88\u001b[0m \u001b[32m━━━━━━━━━━━━━━━━━━━━\u001b[0m\u001b[37m\u001b[0m \u001b[1m19s\u001b[0m 167ms/step - accuracy: 0.3376 - auc: 0.7579 - loss: 1.7362 - val_accuracy: 0.2983 - val_auc: 0.7287 - val_loss: 1.8182\n",
            "\n",
            "--- Training Regression Model (MobileNetV2) ---\n",
            "Epoch 1/12\n",
            "\u001b[1m88/88\u001b[0m \u001b[32m━━━━━━━━━━━━━━━━━━━━\u001b[0m\u001b[37m\u001b[0m \u001b[1m0s\u001b[0m 307ms/step - loss: 1.6157 - rmse: 1.2046"
          ]
        },
        {
          "output_type": "stream",
          "name": "stderr",
          "text": [
            "WARNING:absl:You are saving your model as an HDF5 file via `model.save()` or `keras.saving.save_model(model)`. This file format is considered legacy. We recommend using instead the native Keras format, e.g. `model.save('my_model.keras')` or `keras.saving.save_model(model, 'my_model.keras')`. \n"
          ]
        },
        {
          "output_type": "stream",
          "name": "stdout",
          "text": [
            "\b\b\b\b\b\b\b\b\b\b\b\b\b\b\b\b\b\b\b\b\b\b\b\b\b\b\b\b\b\b\b\b\b\b\b\b\b\b\b\b\b\b\b\b\b\b\b\b\b\b\b\b\b\b\b\b\b\b\b\b\b\b\b\b\b\b\b\b\b\b\r\u001b[1m88/88\u001b[0m \u001b[32m━━━━━━━━━━━━━━━━━━━━\u001b[0m\u001b[37m\u001b[0m \u001b[1m69s\u001b[0m 582ms/step - loss: 1.6050 - rmse: 1.2002 - val_loss: 0.1858 - val_rmse: 0.4310\n",
            "Epoch 2/12\n",
            "\u001b[1m88/88\u001b[0m \u001b[32m━━━━━━━━━━━━━━━━━━━━\u001b[0m\u001b[37m\u001b[0m \u001b[1m0s\u001b[0m 165ms/step - loss: 0.1905 - rmse: 0.4365"
          ]
        },
        {
          "output_type": "stream",
          "name": "stderr",
          "text": [
            "WARNING:absl:You are saving your model as an HDF5 file via `model.save()` or `keras.saving.save_model(model)`. This file format is considered legacy. We recommend using instead the native Keras format, e.g. `model.save('my_model.keras')` or `keras.saving.save_model(model, 'my_model.keras')`. \n"
          ]
        },
        {
          "output_type": "stream",
          "name": "stdout",
          "text": [
            "\b\b\b\b\b\b\b\b\b\b\b\b\b\b\b\b\b\b\b\b\b\b\b\b\b\b\b\b\b\b\b\b\b\b\b\b\b\b\b\b\b\b\b\b\b\b\b\b\b\b\b\b\b\b\b\b\b\b\b\b\b\b\b\b\b\b\b\b\b\b\r\u001b[1m88/88\u001b[0m \u001b[32m━━━━━━━━━━━━━━━━━━━━\u001b[0m\u001b[37m\u001b[0m \u001b[1m15s\u001b[0m 172ms/step - loss: 0.1905 - rmse: 0.4365 - val_loss: 0.1790 - val_rmse: 0.4231\n",
            "Epoch 3/12\n",
            "\u001b[1m88/88\u001b[0m \u001b[32m━━━━━━━━━━━━━━━━━━━━\u001b[0m\u001b[37m\u001b[0m \u001b[1m20s\u001b[0m 167ms/step - loss: 0.1848 - rmse: 0.4299 - val_loss: 0.1810 - val_rmse: 0.4254\n",
            "Epoch 4/12\n",
            "\u001b[1m88/88\u001b[0m \u001b[32m━━━━━━━━━━━━━━━━━━━━\u001b[0m\u001b[37m\u001b[0m \u001b[1m0s\u001b[0m 175ms/step - loss: 0.1795 - rmse: 0.4236"
          ]
        },
        {
          "output_type": "stream",
          "name": "stderr",
          "text": [
            "WARNING:absl:You are saving your model as an HDF5 file via `model.save()` or `keras.saving.save_model(model)`. This file format is considered legacy. We recommend using instead the native Keras format, e.g. `model.save('my_model.keras')` or `keras.saving.save_model(model, 'my_model.keras')`. \n"
          ]
        },
        {
          "output_type": "stream",
          "name": "stdout",
          "text": [
            "\b\b\b\b\b\b\b\b\b\b\b\b\b\b\b\b\b\b\b\b\b\b\b\b\b\b\b\b\b\b\b\b\b\b\b\b\b\b\b\b\b\b\b\b\b\b\b\b\b\b\b\b\b\b\b\b\b\b\b\b\b\b\b\b\b\b\b\b\b\b\r\u001b[1m88/88\u001b[0m \u001b[32m━━━━━━━━━━━━━━━━━━━━\u001b[0m\u001b[37m\u001b[0m \u001b[1m22s\u001b[0m 184ms/step - loss: 0.1795 - rmse: 0.4237 - val_loss: 0.1752 - val_rmse: 0.4186\n",
            "Epoch 5/12\n",
            "\u001b[1m88/88\u001b[0m \u001b[32m━━━━━━━━━━━━━━━━━━━━\u001b[0m\u001b[37m\u001b[0m \u001b[1m0s\u001b[0m 164ms/step - loss: 0.1775 - rmse: 0.4213"
          ]
        },
        {
          "output_type": "stream",
          "name": "stderr",
          "text": [
            "WARNING:absl:You are saving your model as an HDF5 file via `model.save()` or `keras.saving.save_model(model)`. This file format is considered legacy. We recommend using instead the native Keras format, e.g. `model.save('my_model.keras')` or `keras.saving.save_model(model, 'my_model.keras')`. \n"
          ]
        },
        {
          "output_type": "stream",
          "name": "stdout",
          "text": [
            "\b\b\b\b\b\b\b\b\b\b\b\b\b\b\b\b\b\b\b\b\b\b\b\b\b\b\b\b\b\b\b\b\b\b\b\b\b\b\b\b\b\b\b\b\b\b\b\b\b\b\b\b\b\b\b\b\b\b\b\b\b\b\b\b\b\b\b\b\b\b\r\u001b[1m88/88\u001b[0m \u001b[32m━━━━━━━━━━━━━━━━━━━━\u001b[0m\u001b[37m\u001b[0m \u001b[1m19s\u001b[0m 171ms/step - loss: 0.1776 - rmse: 0.4213 - val_loss: 0.1720 - val_rmse: 0.4148\n",
            "Epoch 6/12\n",
            "\u001b[1m88/88\u001b[0m \u001b[32m━━━━━━━━━━━━━━━━━━━━\u001b[0m\u001b[37m\u001b[0m \u001b[1m15s\u001b[0m 167ms/step - loss: 0.1732 - rmse: 0.4161 - val_loss: 0.1734 - val_rmse: 0.4165\n",
            "Epoch 7/12\n",
            "\u001b[1m88/88\u001b[0m \u001b[32m━━━━━━━━━━━━━━━━━━━━\u001b[0m\u001b[37m\u001b[0m \u001b[1m0s\u001b[0m 164ms/step - loss: 0.1766 - rmse: 0.4203"
          ]
        },
        {
          "output_type": "stream",
          "name": "stderr",
          "text": [
            "WARNING:absl:You are saving your model as an HDF5 file via `model.save()` or `keras.saving.save_model(model)`. This file format is considered legacy. We recommend using instead the native Keras format, e.g. `model.save('my_model.keras')` or `keras.saving.save_model(model, 'my_model.keras')`. \n"
          ]
        },
        {
          "output_type": "stream",
          "name": "stdout",
          "text": [
            "\b\b\b\b\b\b\b\b\b\b\b\b\b\b\b\b\b\b\b\b\b\b\b\b\b\b\b\b\b\b\b\b\b\b\b\b\b\b\b\b\b\b\b\b\b\b\b\b\b\b\b\b\b\b\b\b\b\b\b\b\b\b\b\b\b\b\b\b\b\b\r\u001b[1m88/88\u001b[0m \u001b[32m━━━━━━━━━━━━━━━━━━━━\u001b[0m\u001b[37m\u001b[0m \u001b[1m21s\u001b[0m 171ms/step - loss: 0.1766 - rmse: 0.4202 - val_loss: 0.1687 - val_rmse: 0.4107\n",
            "Epoch 8/12\n",
            "\u001b[1m88/88\u001b[0m \u001b[32m━━━━━━━━━━━━━━━━━━━━\u001b[0m\u001b[37m\u001b[0m \u001b[1m0s\u001b[0m 164ms/step - loss: 0.1678 - rmse: 0.4095"
          ]
        },
        {
          "output_type": "stream",
          "name": "stderr",
          "text": [
            "WARNING:absl:You are saving your model as an HDF5 file via `model.save()` or `keras.saving.save_model(model)`. This file format is considered legacy. We recommend using instead the native Keras format, e.g. `model.save('my_model.keras')` or `keras.saving.save_model(model, 'my_model.keras')`. \n"
          ]
        },
        {
          "output_type": "stream",
          "name": "stdout",
          "text": [
            "\b\b\b\b\b\b\b\b\b\b\b\b\b\b\b\b\b\b\b\b\b\b\b\b\b\b\b\b\b\b\b\b\b\b\b\b\b\b\b\b\b\b\b\b\b\b\b\b\b\b\b\b\b\b\b\b\b\b\b\b\b\b\b\b\b\b\b\b\b\b\r\u001b[1m88/88\u001b[0m \u001b[32m━━━━━━━━━━━━━━━━━━━━\u001b[0m\u001b[37m\u001b[0m \u001b[1m15s\u001b[0m 173ms/step - loss: 0.1678 - rmse: 0.4095 - val_loss: 0.1656 - val_rmse: 0.4070\n",
            "Epoch 9/12\n",
            "\u001b[1m88/88\u001b[0m \u001b[32m━━━━━━━━━━━━━━━━━━━━\u001b[0m\u001b[37m\u001b[0m \u001b[1m0s\u001b[0m 165ms/step - loss: 0.1681 - rmse: 0.4099"
          ]
        },
        {
          "output_type": "stream",
          "name": "stderr",
          "text": [
            "WARNING:absl:You are saving your model as an HDF5 file via `model.save()` or `keras.saving.save_model(model)`. This file format is considered legacy. We recommend using instead the native Keras format, e.g. `model.save('my_model.keras')` or `keras.saving.save_model(model, 'my_model.keras')`. \n"
          ]
        },
        {
          "output_type": "stream",
          "name": "stdout",
          "text": [
            "\b\b\b\b\b\b\b\b\b\b\b\b\b\b\b\b\b\b\b\b\b\b\b\b\b\b\b\b\b\b\b\b\b\b\b\b\b\b\b\b\b\b\b\b\b\b\b\b\b\b\b\b\b\b\b\b\b\b\b\b\b\b\b\b\b\b\b\b\b\b\r\u001b[1m88/88\u001b[0m \u001b[32m━━━━━━━━━━━━━━━━━━━━\u001b[0m\u001b[37m\u001b[0m \u001b[1m20s\u001b[0m 173ms/step - loss: 0.1680 - rmse: 0.4099 - val_loss: 0.1653 - val_rmse: 0.4065\n",
            "Epoch 10/12\n",
            "\u001b[1m88/88\u001b[0m \u001b[32m━━━━━━━━━━━━━━━━━━━━\u001b[0m\u001b[37m\u001b[0m \u001b[1m15s\u001b[0m 167ms/step - loss: 0.1658 - rmse: 0.4072 - val_loss: 0.1740 - val_rmse: 0.4171\n",
            "Epoch 11/12\n",
            "\u001b[1m88/88\u001b[0m \u001b[32m━━━━━━━━━━━━━━━━━━━━\u001b[0m\u001b[37m\u001b[0m \u001b[1m21s\u001b[0m 168ms/step - loss: 0.1664 - rmse: 0.4078 - val_loss: 0.1653 - val_rmse: 0.4065\n",
            "Epoch 12/12\n",
            "\u001b[1m88/88\u001b[0m \u001b[32m━━━━━━━━━━━━━━━━━━━━\u001b[0m\u001b[37m\u001b[0m \u001b[1m0s\u001b[0m 164ms/step - loss: 0.1606 - rmse: 0.4007"
          ]
        },
        {
          "output_type": "stream",
          "name": "stderr",
          "text": [
            "WARNING:absl:You are saving your model as an HDF5 file via `model.save()` or `keras.saving.save_model(model)`. This file format is considered legacy. We recommend using instead the native Keras format, e.g. `model.save('my_model.keras')` or `keras.saving.save_model(model, 'my_model.keras')`. \n"
          ]
        },
        {
          "output_type": "stream",
          "name": "stdout",
          "text": [
            "\b\b\b\b\b\b\b\b\b\b\b\b\b\b\b\b\b\b\b\b\b\b\b\b\b\b\b\b\b\b\b\b\b\b\b\b\b\b\b\b\b\b\b\b\b\b\b\b\b\b\b\b\b\b\b\b\b\b\b\b\b\b\b\b\b\b\b\b\b\b\r\u001b[1m88/88\u001b[0m \u001b[32m━━━━━━━━━━━━━━━━━━━━\u001b[0m\u001b[37m\u001b[0m \u001b[1m21s\u001b[0m 171ms/step - loss: 0.1606 - rmse: 0.4007 - val_loss: 0.1639 - val_rmse: 0.4049\n"
          ]
        },
        {
          "output_type": "display_data",
          "data": {
            "text/plain": [
              "<Figure size 1200x500 with 1 Axes>"
            ],
            "image/png": "[encoded data removed]"
          },
          "metadata": {}
        },
        {
          "output_type": "display_data",
          "data": {
            "text/plain": [
              "<Figure size 1200x500 with 1 Axes>"
            ],
            "image/png": "[encoded data removed]"
          },
          "metadata": {}
        },
        {
          "output_type": "display_data",
          "data": {
            "text/plain": [
              "<Figure size 1200x500 with 1 Axes>"
            ],
            "image/png": "[encoded data removed]"
          },
          "metadata": {}
        },
        {
          "output_type": "display_data",
          "data": {
            "text/plain": [
              "<Figure size 1200x500 with 1 Axes>"
            ],
            "image/png": "[encoded data removed]"
          },
          "metadata": {}
        },
        {
          "output_type": "stream",
          "name": "stdout",
          "text": [
            "\n",
            "--- VGG16: Classification Model Evaluation ---\n",
            "\u001b[1m19/19\u001b[0m \u001b[32m━━━━━━━━━━━━━━━━━━━━\u001b[0m\u001b[37m\u001b[0m \u001b[1m2s\u001b[0m 66ms/step\n",
            "VGG16 Accuracy: 0.2850, F1 Score: 0.2731, Cohen Kappa: 0.1829\n",
            "VGG16 AUC: 0.7191555555555555\n",
            "\n",
            "VGG16 Confusion Matrix:\n",
            "[[26  3  2 11  8  3 16  6]\n",
            " [ 7 34  3  7  4  2  8 10]\n",
            " [17  3  9  6  6  7 24  3]\n",
            " [ 7 10  1 26 14  5  9  3]\n",
            " [ 9  5  6 13 23  3 16  0]\n",
            " [ 6 16 11  3  4  9 19  7]\n",
            " [ 4  5  3  6  7  8 32 10]\n",
            " [25 15  3  2  1  3 14 12]]\n",
            "\n",
            "VGG16 Classification Report:\n",
            "              precision    recall  f1-score   support\n",
            "\n",
            "           0     0.2574    0.3467    0.2955        75\n",
            "           1     0.3736    0.4533    0.4096        75\n",
            "           2     0.2368    0.1200    0.1593        75\n",
            "           3     0.3514    0.3467    0.3490        75\n",
            "           4     0.3433    0.3067    0.3239        75\n",
            "           5     0.2250    0.1200    0.1565        75\n",
            "           6     0.2319    0.4267    0.3005        75\n",
            "           7     0.2353    0.1600    0.1905        75\n",
            "\n",
            "    accuracy                         0.2850       600\n",
            "   macro avg     0.2818    0.2850    0.2731       600\n",
            "weighted avg     0.2818    0.2850    0.2731       600\n",
            "\n",
            "\n",
            "--- VGG16: Regression Model Evaluation ---\n",
            "\u001b[1m19/19\u001b[0m \u001b[32m━━━━━━━━━━━━━━━━━━━━\u001b[0m\u001b[37m\u001b[0m \u001b[1m2s\u001b[0m 62ms/step\n",
            "VGG16 RMSE - Valence: 0.4456, Arousal: 0.3599\n",
            "VGG16 Correlation - Valence: 0.2903, Arousal: 0.2801\n",
            "\n",
            "--- MobileNetV2: Classification Model Evaluation ---\n",
            "\u001b[1m19/19\u001b[0m \u001b[32m━━━━━━━━━━━━━━━━━━━━\u001b[0m\u001b[37m\u001b[0m \u001b[1m24s\u001b[0m 667ms/step\n",
            "MobileNetV2 Accuracy: 0.3200, F1 Score: 0.3007, Cohen Kappa: 0.2229\n",
            "MobileNetV2 AUC: 0.7299015873015873\n",
            "\n",
            "MobileNetV2 Confusion Matrix:\n",
            "[[31  3  0  5  4  1 12 19]\n",
            " [10 35  1  4  0  3  6 16]\n",
            " [24  5  2  3 12  8 16  5]\n",
            " [13 12  1 26  9  1  9  4]\n",
            " [ 9  4  3 16 26  4 12  1]\n",
            " [ 9 16  2  5  7 12 17  7]\n",
            " [11  4  0  7  4  1 33 15]\n",
            " [18 14  2  4  1  1  8 27]]\n",
            "\n",
            "MobileNetV2 Classification Report:\n",
            "              precision    recall  f1-score   support\n",
            "\n",
            "           0     0.2480    0.4133    0.3100        75\n",
            "           1     0.3763    0.4667    0.4167        75\n",
            "           2     0.1818    0.0267    0.0465        75\n",
            "           3     0.3714    0.3467    0.3586        75\n",
            "           4     0.4127    0.3467    0.3768        75\n",
            "           5     0.3871    0.1600    0.2264        75\n",
            "           6     0.2920    0.4400    0.3511        75\n",
            "           7     0.2872    0.3600    0.3195        75\n",
            "\n",
            "    accuracy                         0.3200       600\n",
            "   macro avg     0.3196    0.3200    0.3007       600\n",
            "weighted avg     0.3196    0.3200    0.3007       600\n",
            "\n",
            "\n",
            "--- MobileNetV2: Regression Model Evaluation ---\n",
            "\u001b[1m19/19\u001b[0m \u001b[32m━━━━━━━━━━━━━━━━━━━━\u001b[0m\u001b[37m\u001b[0m \u001b[1m24s\u001b[0m 664ms/step\n",
            "MobileNetV2 RMSE - Valence: 0.4454, Arousal: 0.3564\n",
            "MobileNetV2 Correlation - Valence: 0.2908, Arousal: 0.3147\n",
            "\n",
            "Saved 40 images into 'classification_examples/vgg_correct' and 'classification_examples/vgg_incorrect' for VGG16\n",
            "Saved 40 images into 'classification_examples/mnet_correct' and 'classification_examples/mnet_incorrect' for MobileNetV2\n",
            "\n",
            "Done. Tips: for faster experiments keep IMAGE_SIZE small (e.g. 128), FREEZE_BACKBONE=True, and BATCH_SIZE large enough for GPU memory.\n"
          ]
        }
      ],
      "source": [
        "import os\n",
        "import numpy as np\n",
        "import matplotlib.pyplot as plt\n",
        "from PIL import Image\n",
        "from sklearn.model_selection import train_test_split\n",
        "import tensorflow as tf\n",
        "from tensorflow.keras.applications import VGG16, MobileNetV2\n",
        "from tensorflow.keras.models import Model\n",
        "from tensorflow.keras.layers import Dense, Dropout, GlobalAveragePooling2D\n",
        "from tensorflow.keras.callbacks import EarlyStopping, ModelCheckpoint\n",
        "from sklearn.metrics import accuracy_score, f1_score, cohen_kappa_score, roc_auc_score, confusion_matrix, classification_report\n",
        "from scipy.stats import pearsonr\n",
        "from sklearn.utils.class_weight import compute_class_weight\n",
        "\n",
        "# ---------------------------\n",
        "# USER OPTIONS (no changes needed here)\n",
        "# ---------------------------\n",
        "# BASE_PATH will be set automatically in the next section\n",
        "ANN_SUBDIR = \"annotations\"\n",
        "IMG_SUBDIR = \"images\"\n",
        "NUM_SAMPLES_TO_LOAD = 3999   # None to load all images; set smaller for quick tests\n",
        "IMAGE_SIZE = 128            # 128 -> faster; 224 -> original accuracy potential\n",
        "BATCH_SIZE = 32             # increase if GPU memory allows\n",
        "EPOCHS = 12\n",
        "SEED = 42\n",
        "DEBUG = False               # show samples while loading (slows things down)\n",
        "FREEZE_BACKBONE = True      # keep backbone frozen for fast training (you can unfreeze later)\n",
        "AUTOTUNE = tf.data.AUTOTUNE\n",
        "\n",
        "# ---------------------------\n",
        "# NEW: Unzip Dataset in Colab & Define Path\n",
        "# INSTRUCTION: Upload your 'DL_Assignment1_Dataset.zip' file to the Colab session first.\n",
        "# ---------------------------\n",
        "# ---------------------------\n",
        "# NEW: Unzip Dataset in Colab & Define Path\n",
        "# INSTRUCTION: Upload your 'DL_Assignment1_Dataset.zip' file to the Colab session first.\n",
        "# ---------------------------\n",
        "zip_path = '/content/DL_Assignment1_Dataset.zip'\n",
        "if os.path.exists(zip_path):\n",
        "    print(\"Zip file found. Unzipping, this might take a moment...\")\n",
        "    # The '-q' flag makes the output quiet, avoiding a long list of filenames.\n",
        "    os.system(f'unzip -q {zip_path} -d /content/')\n",
        "    print(\"✅ Unzipping complete.\")\n",
        "    # --- THIS LINE IS THE FIX ---\n",
        "    # The zip file likely extracts directly to a 'Dataset' folder.\n",
        "    BASE_PATH = \"/content/Dataset/Dataset\"\n",
        "    # ---------------------------\n",
        "    print(f\"Attempting to use BASE_PATH: {BASE_PATH}\") # Added a print statement for debugging\n",
        "else:\n",
        "    print(\"❌ ERROR: Zip file not found at '\", zip_path, \"'\")\n",
        "    print(\"Please upload 'DL_Assignment1_Dataset.zip' to the Colab session files.\")\n",
        "    # Assign a dummy path to prevent immediate crashing, but assertions will fail.\n",
        "    BASE_PATH = \"/content/Dataset/Dataset\"\n",
        "\n",
        "# ---------------------------\n",
        "# Mixed precision (if GPU available)\n",
        "# ... the rest of your code follows\n",
        "\n",
        "# ---------------------------\n",
        "# Mixed precision (if GPU available)\n",
        "# ---------------------------\n",
        "gpus = tf.config.list_physical_devices('GPU')\n",
        "if gpus:\n",
        "    print(\"GPU detected:\", len(gpus), \"device(s). Enabling mixed precision if supported.\")\n",
        "    try:\n",
        "        tf.keras.mixed_precision.set_global_policy('mixed_float16')\n",
        "        print(\"Mixed precision policy set to mixed_float16.\")\n",
        "    except Exception as e:\n",
        "        print(\"Could not enable mixed precision:\", e)\n",
        "else:\n",
        "    print(\"No GPU detected — running on CPU (will be slower).\")\n",
        "\n",
        "# ---------------------------\n",
        "# Paths & basic checks\n",
        "# ---------------------------\n",
        "ann_path = os.path.join(BASE_PATH, ANN_SUBDIR)\n",
        "img_path = os.path.join(BASE_PATH, IMG_SUBDIR)\n",
        "\n",
        "assert os.path.exists(BASE_PATH), f\"Base path not found: {BASE_PATH}\"\n",
        "assert os.path.exists(ann_path), f\"Annotations path not found: {ann_path}\"\n",
        "assert os.path.exists(img_path), f\"Images path not found: {img_path}\"\n",
        "\n",
        "print(\"✅ Paths look good.\")\n",
        "print(\"Annotations:\", len(os.listdir(ann_path)))\n",
        "print(\"Images:\", len(os.listdir(img_path)))\n",
        "\n",
        "# ---------------------------\n",
        "# Load dataset (resizing & normalize)\n",
        "# ---------------------------\n",
        "np.random.seed(SEED)\n",
        "\n",
        "X_images = []\n",
        "y_expressions = []\n",
        "y_valence = []\n",
        "y_arousal = []\n",
        "\n",
        "img_files = sorted(os.listdir(img_path))\n",
        "if NUM_SAMPLES_TO_LOAD is not None:\n",
        "    img_files = img_files[:NUM_SAMPLES_TO_LOAD]\n",
        "\n",
        "for i, img_file in enumerate(img_files):\n",
        "    img_id = os.path.splitext(img_file)[0]\n",
        "    img_full_path = os.path.join(img_path, img_file)\n",
        "    try:\n",
        "        img = Image.open(img_full_path).convert(\"RGB\")\n",
        "    except Exception as e:\n",
        "        print(\"Could not read:\", img_file, e)\n",
        "        continue\n",
        "\n",
        "    img = img.resize((IMAGE_SIZE, IMAGE_SIZE))\n",
        "    arr = np.array(img, dtype=np.float32) / 255.0\n",
        "    if arr.shape != (IMAGE_SIZE, IMAGE_SIZE, 3):\n",
        "        print(\"Skipping unexpected shape:\", img_file, arr.shape)\n",
        "        continue\n",
        "\n",
        "    # load annotations (.npy as in your dataset)\n",
        "    try:\n",
        "        exp = np.load(os.path.join(ann_path, f\"{img_id}_exp.npy\"), allow_pickle=True)\n",
        "        val = np.load(os.path.join(ann_path, f\"{img_id}_val.npy\"), allow_pickle=True)\n",
        "        aro = np.load(os.path.join(ann_path, f\"{img_id}_aro.npy\"), allow_pickle=True)\n",
        "    except Exception as e:\n",
        "        # skip if any annotation missing\n",
        "        print(f\"Annotation missing for {img_id}: {e}\")\n",
        "        continue\n",
        "\n",
        "    X_images.append(arr)\n",
        "    y_expressions.append(int(exp))\n",
        "    y_valence.append(float(val))\n",
        "    y_arousal.append(float(aro))\n",
        "\n",
        "    if DEBUG and (i % 100 == 0):\n",
        "        print(f\"[DEBUG] {img_file} -> Expr: {int(exp)}, Val: {float(val):.2f}, Aro: {float(aro):.2f}\")\n",
        "        plt.imshow(arr)\n",
        "        plt.title(f\"{img_file} | Expr: {int(exp)}\")\n",
        "        plt.axis(\"off\")\n",
        "        plt.show()\n",
        "\n",
        "# convert to numpy arrays\n",
        "X_images = np.array(X_images, dtype=np.float32)\n",
        "y_expressions = np.array(y_expressions, dtype=np.int64)\n",
        "y_valence = np.array(y_valence, dtype=np.float32)\n",
        "y_arousal = np.array(y_arousal, dtype=np.float32)\n",
        "\n",
        "print(\"\\nDataset shapes:\")\n",
        "print(\"X_images:\", X_images.shape)\n",
        "print(\"y_expressions:\", y_expressions.shape)\n",
        "print(\"y_valence:\", y_valence.shape)\n",
        "print(\"y_arousal:\", y_arousal.shape)\n",
        "\n",
        "# ---------------------------\n",
        "# Train/Val/Test split (stratify by expression if possible)\n",
        "# ---------------------------\n",
        "strat = y_expressions if len(np.unique(y_expressions)) > 1 else None\n",
        "X_train, X_temp, y_expr_train, y_expr_temp, y_val_train, y_val_temp, y_aro_train, y_aro_temp = train_test_split(\n",
        "    X_images, y_expressions, y_valence, y_arousal, test_size=0.30, random_state=SEED, stratify=strat\n",
        ")\n",
        "\n",
        "strat_temp = y_expr_temp if len(np.unique(y_expr_temp)) > 1 else None\n",
        "X_val, X_test, y_expr_val, y_expr_test, y_val_val, y_val_test, y_aro_val, y_aro_test = train_test_split(\n",
        "    X_temp, y_expr_temp, y_val_temp, y_aro_temp, test_size=0.5, random_state=SEED, stratify=strat_temp\n",
        ")\n",
        "\n",
        "print(\"\\nFinal splits:\")\n",
        "print(\"Train:\", X_train.shape)\n",
        "print(\"Val:  \", X_val.shape)\n",
        "print(\"Test: \", X_test.shape)\n",
        "\n",
        "# ---------------------------\n",
        "# Compute class weights to handle imbalance\n",
        "# ---------------------------\n",
        "num_classes = len(np.unique(y_expressions))\n",
        "classes = np.unique(y_expr_train)\n",
        "class_weights_vect = compute_class_weight(class_weight='balanced', classes=classes, y=y_expr_train)\n",
        "class_weights = {int(c): float(w) for c, w in zip(classes, class_weights_vect)}\n",
        "print(\"Computed class weights:\", class_weights)\n",
        "\n",
        "# ---------------------------\n",
        "# Build tf.data Datasets (fast & GPU-friendly)\n",
        "# ---------------------------\n",
        "# Augmentation using TF layers (fast, vectorized)\n",
        "data_augmentation = tf.keras.Sequential([\n",
        "    tf.keras.layers.RandomFlip(mode=\"horizontal\"),\n",
        "    tf.keras.layers.RandomRotation(factor=0.08),      # ~ +/- 8% of 2pi\n",
        "    tf.keras.layers.RandomContrast(factor=0.08),\n",
        "    tf.keras.layers.RandomZoom(height_factor=(-0.08, 0.08), width_factor=(-0.08, 0.08))\n",
        "], name=\"data_augmentation\")\n",
        "\n",
        "# Prepare classification labels (one-hot)\n",
        "y_expr_train_cat = tf.keras.utils.to_categorical(y_expr_train, num_classes=num_classes)\n",
        "y_expr_val_cat = tf.keras.utils.to_categorical(y_expr_val, num_classes=num_classes)\n",
        "\n",
        "# Create datasets\n",
        "train_ds_class = tf.data.Dataset.from_tensor_slices((X_train, y_expr_train_cat))\n",
        "train_ds_class = train_ds_class.shuffle(buffer_size=len(X_train), seed=SEED).map(\n",
        "    lambda x, y: (data_augmentation(x, training=True), y),\n",
        "    num_parallel_calls=AUTOTUNE\n",
        ").batch(BATCH_SIZE).prefetch(AUTOTUNE)\n",
        "\n",
        "val_ds_class = tf.data.Dataset.from_tensor_slices((X_val, y_expr_val_cat)).batch(BATCH_SIZE).prefetch(AUTOTUNE)\n",
        "\n",
        "train_ds_reg = tf.data.Dataset.from_tensor_slices((X_train, np.stack([y_val_train, y_aro_train], axis=1)))\n",
        "train_ds_reg = train_ds_reg.shuffle(buffer_size=len(X_train), seed=SEED).map(\n",
        "    lambda x, y: (data_augmentation(x, training=True), y),\n",
        "    num_parallel_calls=AUTOTUNE\n",
        ").batch(BATCH_SIZE).prefetch(AUTOTUNE)\n",
        "\n",
        "val_ds_reg = tf.data.Dataset.from_tensor_slices((X_val, np.stack([y_val_val, y_aro_val], axis=1))).batch(BATCH_SIZE).prefetch(AUTOTUNE)\n",
        "\n",
        "# ---------------------------\n",
        "# Model factories: VGG16 (original) and MobileNetV2 (new)\n",
        "# ---------------------------\n",
        "input_shape = (IMAGE_SIZE, IMAGE_SIZE, 3)\n",
        "\n",
        "def create_classification_model_vgg():\n",
        "    base = VGG16(weights='imagenet', include_top=False, input_shape=input_shape)\n",
        "    if FREEZE_BACKBONE:\n",
        "        for layer in base.layers:\n",
        "            layer.trainable = False\n",
        "    x = GlobalAveragePooling2D()(base.output)\n",
        "    x = Dense(256, activation='relu')(x)\n",
        "    x = Dropout(0.5)(x)\n",
        "    out = Dense(num_classes, activation='softmax', dtype='float32')(x)\n",
        "    model = Model(inputs=base.input, outputs=out)\n",
        "    model.compile(optimizer='adam', loss='categorical_crossentropy', metrics=['accuracy', tf.keras.metrics.AUC(name='auc')])\n",
        "    return model\n",
        "\n",
        "def create_regression_model_vgg():\n",
        "    base = VGG16(weights='imagenet', include_top=False, input_shape=input_shape)\n",
        "    if FREEZE_BACKBONE:\n",
        "        for layer in base.layers:\n",
        "            layer.trainable = False\n",
        "    x = GlobalAveragePooling2D()(base.output)\n",
        "    x = Dense(256, activation='relu')(x)\n",
        "    x = Dropout(0.5)(x)\n",
        "    out = Dense(2, activation='linear', dtype='float32')(x)\n",
        "    model = Model(inputs=base.input, outputs=out)\n",
        "    model.compile(optimizer='adam', loss='mse', metrics=[tf.keras.metrics.RootMeanSquaredError(name='rmse')])\n",
        "    return model\n",
        "\n",
        "def create_classification_model_mobilenet():\n",
        "    base = MobileNetV2(weights='imagenet', include_top=False, input_shape=input_shape)\n",
        "    if FREEZE_BACKBONE:\n",
        "        for layer in base.layers:\n",
        "            layer.trainable = False\n",
        "    x = GlobalAveragePooling2D()(base.output)\n",
        "    x = Dense(256, activation='relu')(x)\n",
        "    x = Dropout(0.5)(x)\n",
        "    out = Dense(num_classes, activation='softmax', dtype='float32')(x)\n",
        "    model = Model(inputs=base.input, outputs=out)\n",
        "    model.compile(optimizer='adam', loss='categorical_crossentropy', metrics=['accuracy', tf.keras.metrics.AUC(name='auc')])\n",
        "    return model\n",
        "\n",
        "def create_regression_model_mobilenet():\n",
        "    base = MobileNetV2(weights='imagenet', include_top=False, input_shape=input_shape)\n",
        "    if FREEZE_BACKBONE:\n",
        "        for layer in base.layers:\n",
        "            layer.trainable = False\n",
        "    x = GlobalAveragePooling2D()(base.output)\n",
        "    x = Dense(256, activation='relu')(x)\n",
        "    x = Dropout(0.5)(x)\n",
        "    out = Dense(2, activation='linear', dtype='float32')(x)\n",
        "    model = Model(inputs=base.input, outputs=out)\n",
        "    model.compile(optimizer='adam', loss='mse', metrics=[tf.keras.metrics.RootMeanSquaredError(name='rmse')])\n",
        "    return model\n",
        "\n",
        "# ---------------------------\n",
        "# Instantiate models\n",
        "# ---------------------------\n",
        "# Original VGG models (unchanged)\n",
        "classification_model_vgg = create_classification_model_vgg()\n",
        "regression_model_vgg = create_regression_model_vgg()\n",
        "print(\"\\nVGG16 models ready: Classification & Regression\")\n",
        "\n",
        "# New MobileNetV2 models (added)\n",
        "classification_model_mnet = create_classification_model_mobilenet()\n",
        "regression_model_mnet = create_regression_model_mobilenet()\n",
        "print(\"MobileNetV2 models ready: Classification & Regression\")\n",
        "\n",
        "# ---------------------------\n",
        "# Callbacks & training (fast-friendly) - unique checkpoints per model\n",
        "# ---------------------------\n",
        "early_stop = EarlyStopping(monitor='val_loss', patience=4, restore_best_weights=True)\n",
        "ckpt_class_vgg = ModelCheckpoint('class_model_vgg_best.h5', save_best_only=True, monitor='val_loss')\n",
        "ckpt_reg_vgg = ModelCheckpoint('reg_model_vgg_best.h5', save_best_only=True, monitor='val_loss')\n",
        "ckpt_class_mnet = ModelCheckpoint('class_model_mnet_best.h5', save_best_only=True, monitor='val_loss')\n",
        "ckpt_reg_mnet = ModelCheckpoint('reg_model_mnet_best.h5', save_best_only=True, monitor='val_loss')\n",
        "\n",
        "# ---------------------------\n",
        "# Train: VGG Classification\n",
        "# ---------------------------\n",
        "print(\"\\n--- Training Classification Model (VGG16) ---\")\n",
        "history_class_vgg = classification_model_vgg.fit(\n",
        "    train_ds_class,\n",
        "    validation_data=val_ds_class,\n",
        "    epochs=EPOCHS,\n",
        "    callbacks=[early_stop, ckpt_class_vgg],\n",
        "    class_weight=class_weights,\n",
        "    verbose=1\n",
        ")\n",
        "\n",
        "# ---------------------------\n",
        "# Train: VGG Regression\n",
        "# ---------------------------\n",
        "print(\"\\n--- Training Regression Model (VGG16) ---\")\n",
        "history_reg_vgg = regression_model_vgg.fit(\n",
        "    train_ds_reg,\n",
        "    validation_data=val_ds_reg,\n",
        "    epochs=EPOCHS,\n",
        "    callbacks=[early_stop, ckpt_reg_vgg],\n",
        "    verbose=1\n",
        ")\n",
        "\n",
        "# ---------------------------\n",
        "# Train: MobileNet Classification\n",
        "# ---------------------------\n",
        "print(\"\\n--- Training Classification Model (MobileNetV2) ---\")\n",
        "history_class_mnet = classification_model_mnet.fit(\n",
        "    train_ds_class,\n",
        "    validation_data=val_ds_class,\n",
        "    epochs=EPOCHS,\n",
        "    callbacks=[early_stop, ckpt_class_mnet],\n",
        "    class_weight=class_weights,\n",
        "    verbose=1\n",
        ")\n",
        "\n",
        "# ---------------------------\n",
        "# Train: MobileNet Regression\n",
        "# ---------------------------\n",
        "print(\"\\n--- Training Regression Model (MobileNetV2) ---\")\n",
        "history_reg_mnet = regression_model_mnet.fit(\n",
        "    train_ds_reg,\n",
        "    validation_data=val_ds_reg,\n",
        "    epochs=EPOCHS,\n",
        "    callbacks=[early_stop, ckpt_reg_mnet],\n",
        "    verbose=1\n",
        ")\n",
        "\n",
        "# ---------------------------\n",
        "# Plot training curves helper (keeps original style)\n",
        "# ---------------------------\n",
        "def plot_history(history, model_type='classification', title_suffix=''):\n",
        "    plt.figure(figsize=(12,5))\n",
        "    plt.subplot(1,2,1)\n",
        "    plt.plot(history.history['loss'], label='Train Loss')\n",
        "    plt.plot(history.history.get('val_loss', []), label='Val Loss')\n",
        "    plt.title(f'{model_type} Loss {title_suffix}')\n",
        "    plt.xlabel('Epoch'); plt.ylabel('Loss'); plt.legend()\n",
        "    if model_type == 'classification':\n",
        "        plt.subplot(1,2,2)\n",
        "        plt.plot(history.history.get('accuracy', []), label='Train Acc')\n",
        "        plt.plot(history.history.get('val_accuracy', []), label='Val Acc')\n",
        "        plt.title(f'{model_type} Accuracy {title_suffix}')\n",
        "        plt.xlabel('Epoch'); plt.ylabel('Accuracy'); plt.legend()\n",
        "    plt.tight_layout()\n",
        "    plt.show()\n",
        "\n",
        "# Plot histories for all 4 training runs\n",
        "plot_history(history_class_vgg, 'Classification', '(VGG16)')\n",
        "plot_history(history_reg_vgg, 'Regression', '(VGG16)')\n",
        "plot_history(history_class_mnet, 'Classification', '(MobileNetV2)')\n",
        "plot_history(history_reg_mnet, 'Regression', '(MobileNetV2)')\n",
        "\n",
        "# ---------------------------\n",
        "# Final evaluation on test set — VGG16 classification & regression\n",
        "# ---------------------------\n",
        "print(\"\\n--- VGG16: Classification Model Evaluation ---\")\n",
        "y_pred_proba_vgg = classification_model_vgg.predict(X_test, batch_size=BATCH_SIZE)\n",
        "y_pred_class_vgg = np.argmax(y_pred_proba_vgg, axis=1)\n",
        "\n",
        "acc_vgg = accuracy_score(y_expr_test, y_pred_class_vgg)\n",
        "f1_vgg = f1_score(y_expr_test, y_pred_class_vgg, average='weighted')\n",
        "kappa_vgg = cohen_kappa_score(y_expr_test, y_pred_class_vgg)\n",
        "y_test_onehot = tf.keras.utils.to_categorical(y_expr_test, num_classes=num_classes)\n",
        "try:\n",
        "    auc_score_vgg = roc_auc_score(y_test_onehot, y_pred_proba_vgg, multi_class='ovr')\n",
        "except Exception:\n",
        "    auc_score_vgg = float('nan')\n",
        "\n",
        "print(f\"VGG16 Accuracy: {acc_vgg:.4f}, F1 Score: {f1_vgg:.4f}, Cohen Kappa: {kappa_vgg:.4f}\")\n",
        "print(f\"VGG16 AUC: {auc_score_vgg if not np.isnan(auc_score_vgg) else 'nan'}\")\n",
        "print(\"\\nVGG16 Confusion Matrix:\")\n",
        "print(confusion_matrix(y_expr_test, y_pred_class_vgg))\n",
        "print(\"\\nVGG16 Classification Report:\")\n",
        "print(classification_report(y_expr_test, y_pred_class_vgg, digits=4))\n",
        "\n",
        "print(\"\\n--- VGG16: Regression Model Evaluation ---\")\n",
        "y_pred_reg_vgg = regression_model_vgg.predict(X_test, batch_size=BATCH_SIZE)\n",
        "rmse_val_vgg = np.sqrt(np.mean((y_pred_reg_vgg[:,0] - y_val_test)**2)) if len(y_val_test)>0 else float('nan')\n",
        "rmse_aro_vgg = np.sqrt(np.mean((y_pred_reg_vgg[:,1] - y_aro_test)**2)) if len(y_aro_test)>0 else float('nan')\n",
        "corr_val_vgg, _ = pearsonr(y_pred_reg_vgg[:,0], y_val_test) if len(y_val_test) > 1 else (float('nan'), None)\n",
        "corr_aro_vgg, _ = pearsonr(y_pred_reg_vgg[:,1], y_aro_test) if len(y_aro_test) > 1 else (float('nan'), None)\n",
        "print(f\"VGG16 RMSE - Valence: {rmse_val_vgg:.4f}, Arousal: {rmse_aro_vgg:.4f}\")\n",
        "print(f\"VGG16 Correlation - Valence: {corr_val_vgg:.4f}, Arousal: {corr_aro_vgg:.4f}\")\n",
        "\n",
        "# ---------------------------\n",
        "# Final evaluation on test set — MobileNetV2 classification & regression\n",
        "# ---------------------------\n",
        "print(\"\\n--- MobileNetV2: Classification Model Evaluation ---\")\n",
        "y_pred_proba_mnet = classification_model_mnet.predict(X_test, batch_size=BATCH_SIZE)\n",
        "y_pred_class_mnet = np.argmax(y_pred_proba_mnet, axis=1)\n",
        "\n",
        "acc_mnet = accuracy_score(y_expr_test, y_pred_class_mnet)\n",
        "f1_mnet = f1_score(y_expr_test, y_pred_class_mnet, average='weighted')\n",
        "kappa_mnet = cohen_kappa_score(y_expr_test, y_pred_class_mnet)\n",
        "try:\n",
        "    auc_score_mnet = roc_auc_score(y_test_onehot, y_pred_proba_mnet, multi_class='ovr')\n",
        "except Exception:\n",
        "    auc_score_mnet = float('nan')\n",
        "\n",
        "print(f\"MobileNetV2 Accuracy: {acc_mnet:.4f}, F1 Score: {f1_mnet:.4f}, Cohen Kappa: {kappa_mnet:.4f}\")\n",
        "print(f\"MobileNetV2 AUC: {auc_score_mnet if not np.isnan(auc_score_mnet) else 'nan'}\")\n",
        "print(\"\\nMobileNetV2 Confusion Matrix:\")\n",
        "print(confusion_matrix(y_expr_test, y_pred_class_mnet))\n",
        "print(\"\\nMobileNetV2 Classification Report:\")\n",
        "print(classification_report(y_expr_test, y_pred_class_mnet, digits=4))\n",
        "\n",
        "print(\"\\n--- MobileNetV2: Regression Model Evaluation ---\")\n",
        "y_pred_reg_mnet = regression_model_mnet.predict(X_test, batch_size=BATCH_SIZE)\n",
        "rmse_val_mnet = np.sqrt(np.mean((y_pred_reg_mnet[:,0] - y_val_test)**2)) if len(y_val_test)>0 else float('nan')\n",
        "rmse_aro_mnet = np.sqrt(np.mean((y_pred_reg_mnet[:,1] - y_aro_test)**2)) if len(y_aro_test)>0 else float('nan')\n",
        "corr_val_mnet, _ = pearsonr(y_pred_reg_mnet[:,0], y_val_test) if len(y_val_test) > 1 else (float('nan'), None)\n",
        "corr_aro_mnet, _ = pearsonr(y_pred_reg_mnet[:,1], y_aro_test) if len(y_aro_test) > 1 else (float('nan'), None)\n",
        "print(f\"MobileNetV2 RMSE - Valence: {rmse_val_mnet:.4f}, Arousal: {rmse_aro_mnet:.4f}\")\n",
        "print(f\"MobileNetV2 Correlation - Valence: {corr_val_mnet:.4f}, Arousal: {corr_aro_mnet:.4f}\")\n",
        "\n",
        "# ---------------------------\n",
        "# Save a few correct & incorrect classification images for both models (VGG16 & MobileNet)\n",
        "# ---------------------------\n",
        "from PIL import Image as PILImage\n",
        "save_dir = \"classification_examples\"\n",
        "vgg_correct_dir = os.path.join(save_dir, \"vgg_correct\")\n",
        "vgg_incorrect_dir = os.path.join(save_dir, \"vgg_incorrect\")\n",
        "mnet_correct_dir = os.path.join(save_dir, \"mnet_correct\")\n",
        "mnet_incorrect_dir = os.path.join(save_dir, \"mnet_incorrect\")\n",
        "\n",
        "os.makedirs(vgg_correct_dir, exist_ok=True)\n",
        "os.makedirs(vgg_incorrect_dir, exist_ok=True)\n",
        "os.makedirs(mnet_correct_dir, exist_ok=True)\n",
        "os.makedirs(mnet_incorrect_dir, exist_ok=True)\n",
        "\n",
        "num_examples = min(40, len(X_test))\n",
        "saved_vgg = 0\n",
        "saved_mnet = 0\n",
        "for i in range(num_examples):\n",
        "    img_array = (X_test[i] * 255).astype(np.uint8)\n",
        "    img_pil = PILImage.fromarray(img_array)\n",
        "\n",
        "    # VGG\n",
        "    pred_label_vgg = int(y_pred_class_vgg[i])\n",
        "    true_label = int(y_expr_test[i])\n",
        "    fname_vgg = f\"{i}_true{true_label}_pred{pred_label_vgg}.png\"\n",
        "    if pred_label_vgg == true_label:\n",
        "        img_pil.save(os.path.join(vgg_correct_dir, fname_vgg))\n",
        "    else:\n",
        "        img_pil.save(os.path.join(vgg_incorrect_dir, fname_vgg))\n",
        "    saved_vgg += 1\n",
        "\n",
        "    # MobileNet\n",
        "    pred_label_mnet = int(y_pred_class_mnet[i])\n",
        "    fname_mnet = f\"{i}_true{true_label}_pred{pred_label_mnet}.png\"\n",
        "    if pred_label_mnet == true_label:\n",
        "        img_pil.save(os.path.join(mnet_correct_dir, fname_mnet))\n",
        "    else:\n",
        "        img_pil.save(os.path.join(mnet_incorrect_dir, fname_mnet))\n",
        "    saved_mnet += 1\n",
        "\n",
        "print(f\"\\nSaved {saved_vgg} images into '{vgg_correct_dir}' and '{vgg_incorrect_dir}' for VGG16\")\n",
        "print(f\"Saved {saved_mnet} images into '{mnet_correct_dir}' and '{mnet_incorrect_dir}' for MobileNetV2\")\n",
        "\n",
        "print(\"\\nDone. Tips: for faster experiments keep IMAGE_SIZE small (e.g. 128), FREEZE_BACKBONE=True, and BATCH_SIZE large enough for GPU memory.\")"
      ]
    },
    {
      "cell_type": "code",
      "source": [
        "# This cell is for installing any required packages.\n",
        "# In a standard Google Colab environment, all of these are pre-installed,\n",
        "# but it's good practice to have this for other environments.\n",
        "%pip install tensorflow scikit-learn matplotlib pillow scipy"
      ],
      "metadata": {
        "colab": {
          "base_uri": "https://localhost:8080/"
        },
        "id": "YbwHsC7XYu8T",
        "outputId": "1a752880-aa0a-4201-80f4-bc2ae71286e3"
      },
      "execution_count": 1,
      "outputs": [
        {
          "output_type": "stream",
          "name": "stdout",
          "text": [
            "Requirement already satisfied: tensorflow in /usr/local/lib/python3.12/dist-packages (2.19.0)\n",
            "Requirement already satisfied: scikit-learn in /usr/local/lib/python3.12/dist-packages (1.6.1)\n",
            "Requirement already satisfied: matplotlib in /usr/local/lib/python3.12/dist-packages (3.10.0)\n",
            "Requirement already satisfied: pillow in /usr/local/lib/python3.12/dist-packages (11.3.0)\n",
            "Requirement already satisfied: scipy in /usr/local/lib/python3.12/dist-packages (1.16.2)\n",
            "Requirement already satisfied: absl-py>=1.0.0 in /usr/local/lib/python3.12/dist-packages (from tensorflow) (1.4.0)\n",
            "Requirement already satisfied: astunparse>=1.6.0 in /usr/local/lib/python3.12/dist-packages (from tensorflow) (1.6.3)\n",
            "Requirement already satisfied: flatbuffers>=24.3.25 in /usr/local/lib/python3.12/dist-packages (from tensorflow) (25.2.10)\n",
            "Requirement already satisfied: gast!=0.5.0,!=0.5.1,!=0.5.2,>=0.2.1 in /usr/local/lib/python3.12/dist-packages (from tensorflow) (0.6.0)\n",
            "Requirement already satisfied: google-pasta>=0.1.1 in /usr/local/lib/python3.12/dist-packages (from tensorflow) (0.2.0)\n",
            "Requirement already satisfied: libclang>=13.0.0 in /usr/local/lib/python3.12/dist-packages (from tensorflow) (18.1.1)\n",
            "Requirement already satisfied: opt-einsum>=2.3.2 in /usr/local/lib/python3.12/dist-packages (from tensorflow) (3.4.0)\n",
            "Requirement already satisfied: packaging in /usr/local/lib/python3.12/dist-packages (from tensorflow) (25.0)\n",
            "Requirement already satisfied: protobuf!=4.21.0,!=4.21.1,!=4.21.2,!=4.21.3,!=4.21.4,!=4.21.5,<6.0.0dev,>=3.20.3 in /usr/local/lib/python3.12/dist-packages (from tensorflow) (5.29.5)\n",
            "Requirement already satisfied: requests<3,>=2.21.0 in /usr/local/lib/python3.12/dist-packages (from tensorflow) (2.32.4)\n",
            "Requirement already satisfied: setuptools in /usr/local/lib/python3.12/dist-packages (from tensorflow) (75.2.0)\n",
            "Requirement already satisfied: six>=1.12.0 in /usr/local/lib/python3.12/dist-packages (from tensorflow) (1.17.0)\n",
            "Requirement already satisfied: termcolor>=1.1.0 in /usr/local/lib/python3.12/dist-packages (from tensorflow) (3.1.0)\n",
            "Requirement already satisfied: typing-extensions>=3.6.6 in /usr/local/lib/python3.12/dist-packages (from tensorflow) (4.15.0)\n",
            "Requirement already satisfied: wrapt>=1.11.0 in /usr/local/lib/python3.12/dist-packages (from tensorflow) (1.17.3)\n",
            "Requirement already satisfied: grpcio<2.0,>=1.24.3 in /usr/local/lib/python3.12/dist-packages (from tensorflow) (1.75.0)\n",
            "Requirement already satisfied: tensorboard~=2.19.0 in /usr/local/lib/python3.12/dist-packages (from tensorflow) (2.19.0)\n",
            "Requirement already satisfied: keras>=3.5.0 in /usr/local/lib/python3.12/dist-packages (from tensorflow) (3.10.0)\n",
            "Requirement already satisfied: numpy<2.2.0,>=1.26.0 in /usr/local/lib/python3.12/dist-packages (from tensorflow) (2.0.2)\n",
            "Requirement already satisfied: h5py>=3.11.0 in /usr/local/lib/python3.12/dist-packages (from tensorflow) (3.14.0)\n",
            "Requirement already satisfied: ml-dtypes<1.0.0,>=0.5.1 in /usr/local/lib/python3.12/dist-packages (from tensorflow) (0.5.3)\n",
            "Requirement already satisfied: joblib>=1.2.0 in /usr/local/lib/python3.12/dist-packages (from scikit-learn) (1.5.2)\n",
            "Requirement already satisfied: threadpoolctl>=3.1.0 in /usr/local/lib/python3.12/dist-packages (from scikit-learn) (3.6.0)\n",
            "Requirement already satisfied: contourpy>=1.0.1 in /usr/local/lib/python3.12/dist-packages (from matplotlib) (1.3.3)\n",
            "Requirement already satisfied: cycler>=0.10 in /usr/local/lib/python3.12/dist-packages (from matplotlib) (0.12.1)\n",
            "Requirement already satisfied: fonttools>=4.22.0 in /usr/local/lib/python3.12/dist-packages (from matplotlib) (4.60.0)\n",
            "Requirement already satisfied: kiwisolver>=1.3.1 in /usr/local/lib/python3.12/dist-packages (from matplotlib) (1.4.9)\n",
            "Requirement already satisfied: pyparsing>=2.3.1 in /usr/local/lib/python3.12/dist-packages (from matplotlib) (3.2.4)\n",
            "Requirement already satisfied: python-dateutil>=2.7 in /usr/local/lib/python3.12/dist-packages (from matplotlib) (2.9.0.post0)\n",
            "Requirement already satisfied: wheel<1.0,>=0.23.0 in /usr/local/lib/python3.12/dist-packages (from astunparse>=1.6.0->tensorflow) (0.45.1)\n",
            "Requirement already satisfied: rich in /usr/local/lib/python3.12/dist-packages (from keras>=3.5.0->tensorflow) (13.9.4)\n",
            "Requirement already satisfied: namex in /usr/local/lib/python3.12/dist-packages (from keras>=3.5.0->tensorflow) (0.1.0)\n",
            "Requirement already satisfied: optree in /usr/local/lib/python3.12/dist-packages (from keras>=3.5.0->tensorflow) (0.17.0)\n",
            "Requirement already satisfied: charset_normalizer<4,>=2 in /usr/local/lib/python3.12/dist-packages (from requests<3,>=2.21.0->tensorflow) (3.4.3)\n",
            "Requirement already satisfied: idna<4,>=2.5 in /usr/local/lib/python3.12/dist-packages (from requests<3,>=2.21.0->tensorflow) (3.10)\n",
            "Requirement already satisfied: urllib3<3,>=1.21.1 in /usr/local/lib/python3.12/dist-packages (from requests<3,>=2.21.0->tensorflow) (2.5.0)\n",
            "Requirement already satisfied: certifi>=2017.4.17 in /usr/local/lib/python3.12/dist-packages (from requests<3,>=2.21.0->tensorflow) (2025.8.3)\n",
            "Requirement already satisfied: markdown>=2.6.8 in /usr/local/lib/python3.12/dist-packages (from tensorboard~=2.19.0->tensorflow) (3.9)\n",
            "Requirement already satisfied: tensorboard-data-server<0.8.0,>=0.7.0 in /usr/local/lib/python3.12/dist-packages (from tensorboard~=2.19.0->tensorflow) (0.7.2)\n",
            "Requirement already satisfied: werkzeug>=1.0.1 in /usr/local/lib/python3.12/dist-packages (from tensorboard~=2.19.0->tensorflow) (3.1.3)\n",
            "Requirement already satisfied: MarkupSafe>=2.1.1 in /usr/local/lib/python3.12/dist-packages (from werkzeug>=1.0.1->tensorboard~=2.19.0->tensorflow) (3.0.2)\n",
            "Requirement already satisfied: markdown-it-py>=2.2.0 in /usr/local/lib/python3.12/dist-packages (from rich->keras>=3.5.0->tensorflow) (4.0.0)\n",
            "Requirement already satisfied: pygments<3.0.0,>=2.13.0 in /usr/local/lib/python3.12/dist-packages (from rich->keras>=3.5.0->tensorflow) (2.19.2)\n",
            "Requirement already satisfied: mdurl~=0.1 in /usr/local/lib/python3.12/dist-packages (from markdown-it-py>=2.2.0->rich->keras>=3.5.0->tensorflow) (0.1.2)\n"
          ]
        }
      ]
    }
  ]
}